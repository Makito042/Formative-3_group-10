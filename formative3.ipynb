{
  "cells": [
    {
      "cell_type": "markdown",
      "metadata": {
        "id": "DQscJ6_zcdpR"
      },
      "source": []
    },
    {
      "cell_type": "markdown",
      "metadata": {
        "id": "DHKqlOTccfc-"
      },
      "source": [
        "# Formative 3 - Probability Distributions, Bayesian Probability, and Gradient Descent Implementation\n",
        "We as group 10 will be working on a comprehensive assignment designed to deepen our understanding in probability and machine learning.\n",
        "\n",
        "This notebook presents our implementations and analysis for the following three components:\n",
        "\n",
        "Part 1: Binomial Distribution.\n",
        "\n",
        "Part 2: Bayesian Probability Application.\n",
        "\n",
        "Part 3: Gradien Descent for Linear Regression."
      ]
    },
    {
      "cell_type": "markdown",
      "metadata": {
        "id": "FvSSiWHmcqVa"
      },
      "source": [
        "**Part 1: Binomial Distribution – Pancreatic Cancer Risk Analysis**\n",
        "\n",
        "Problem Statement\n",
        "The lifetime risk of developing pancreatic cancer is about 1 in 78 (approximately 1.28%). Suppose we randomly sample 200 people. Let X be the number of people in this sample who will develop pancreatic cancer.\n",
        "\n",
        "1. Binomial Distribution for X\n",
        "Since each person either develops pancreatic cancer or does not, independently, and the probability of developing it is constant, the random variable X follows a Binomial distribution with\n",
        "\n",
        "with parameters:\n",
        "\n",
        "Number of trials:\n",
        "𝑛\n",
        "=\n",
        "200\n",
        "\n",
        "Probability of success (developing cancer):\n",
        "𝑝\n",
        "=\n",
        "1/78\n",
        "≈\n",
        "0.0128\n",
        "\n",
        "Using the formulas, calculate the (i) mean and (ii) standard deviation of X.\n",
        "\n",
        " find the probability that at most eight people develop pancreatic cancer\n",
        "Is it more likely that five or six people will develop pancreatic cancer? Justify your answer numerically.\n"
      ]
    },
    {
      "cell_type": "markdown",
      "metadata": {
        "id": "2eTsK6ndcxmU"
      },
      "source": [
        "# Step 1: Define factorial and combination functions"
      ]
    },
    {
      "cell_type": "code",
      "execution_count": null,
      "metadata": {
        "id": "YoOY-2aUc4ea"
      },
      "outputs": [],
      "source": [
        "def factorial(n):\n",
        "    result = 1\n",
        "    for i in range(2, n+1):\n",
        "        result *= i\n",
        "    return result\n",
        "\n",
        "def combination(n, k):\n",
        "    return factorial(n) // (factorial(k) * factorial(n - k))"
      ]
    },
    {
      "cell_type": "markdown",
      "metadata": {
        "id": "BVqj1Xgyc6d6"
      },
      "source": [
        "#Step 2: Define binomial PMF function\n"
      ]
    },
    {
      "cell_type": "code",
      "execution_count": null,
      "metadata": {
        "id": "0XPfNZd2c_iy"
      },
      "outputs": [],
      "source": [
        "def binomial_pmf(n, k, p):\n",
        "    return combination(n, k) * (p ** k) * ((1 - p) ** (n - k))\n"
      ]
    }
  ],
  "metadata": {
    "colab": {
      "provenance": []
    },
    "kernelspec": {
      "display_name": "Python 3",
      "name": "python3"
    },
    "language_info": {
      "name": "python"
    }
  },
  "nbformat": 4,
  "nbformat_minor": 0
}
