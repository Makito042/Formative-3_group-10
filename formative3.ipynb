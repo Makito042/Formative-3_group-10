{
  "nbformat": 4,
  "nbformat_minor": 0,
  "metadata": {
    "colab": {
      "provenance": []
    },
    "kernelspec": {
      "name": "python3",
      "display_name": "Python 3"
    },
    "language_info": {
      "name": "python"
    }
  },
  "cells": [
    {
      "cell_type": "markdown",
      "source": [],
      "metadata": {
        "id": "DQscJ6_zcdpR"
      }
    },
    {
      "cell_type": "markdown",
      "source": [
        "# Formative 3 - Probability Distributions, Bayesian Probability, and Gradient Descent Implementation\n",
        "We as group 10 will be working on a comprehensive assignment designed to deepen our understanding in probability and machine learning.\n",
        "\n",
        "This notebook presents our implementations and analysis for the following three components:\n",
        "\n",
        "Part 1: Binomial Distribution.\n",
        "\n",
        "Part 2: Bayesian Probability Application.\n",
        "\n",
        "Part 3: Gradien Descent for Linear Regression."
      ],
      "metadata": {
        "id": "DHKqlOTccfc-"
      }
    },
    {
      "cell_type": "markdown",
      "source": [
        "**Part 1: Binomial Distribution – Pancreatic Cancer Risk Analysis**\n",
        "\n",
        "Problem Statement\n",
        "The lifetime risk of developing pancreatic cancer is about 1 in 78 (approximately 1.28%). Suppose we randomly sample 200 people. Let X be the number of people in this sample who will develop pancreatic cancer.\n",
        "\n",
        "1. Binomial Distribution for X\n",
        "Since each person either develops pancreatic cancer or does not, independently, and the probability of developing it is constant, the random variable X follows a Binomial distribution with\n",
        "\n",
        "with parameters:\n",
        "\n",
        "Number of trials:\n",
        "𝑛\n",
        "=\n",
        "200\n",
        "\n",
        "Probability of success (developing cancer):\n",
        "𝑝\n",
        "=\n",
        "1/78\n",
        "≈\n",
        "0.0128\n",
        "\n",
        "Using the formulas, calculate the (i) mean and (ii) standard deviation of X.\n",
        "\n",
        " find the probability that at most eight people develop pancreatic cancer\n",
        "Is it more likely that five or six people will develop pancreatic cancer? Justify your answer numerically.\n"
      ],
      "metadata": {
        "id": "FvSSiWHmcqVa"
      }
    },
    {
      "cell_type": "markdown",
      "source": [
        "# Step 1: Define factorial and combination functions"
      ],
      "metadata": {
        "id": "2eTsK6ndcxmU"
      }
    },
    {
      "cell_type": "code",
      "source": [
        "def factorial(n):\n",
        "    result = 1\n",
        "    for i in range(2, n+1):\n",
        "        result *= i\n",
        "    return result\n",
        "\n",
        "def combination(n, k):\n",
        "    return factorial(n) // (factorial(k) * factorial(n - k))"
      ],
      "metadata": {
        "id": "YoOY-2aUc4ea"
      },
      "execution_count": null,
      "outputs": []
    },
    {
      "cell_type": "markdown",
      "source": [
        "#Step 2: Define binomial PMF function\n"
      ],
      "metadata": {
        "id": "BVqj1Xgyc6d6"
      }
    },
    {
      "cell_type": "code",
      "source": [
        "def binomial_pmf(n, k, p):\n",
        "    return combination(n, k) * (p ** k) * ((1 - p) ** (n - k))\n"
      ],
      "metadata": {
        "id": "0XPfNZd2c_iy"
      },
      "execution_count": null,
      "outputs": []
    },
    {
      "cell_type": "markdown",
      "source": [
        "#Step 3: Calculate mean and standard deviation\n"
      ],
      "metadata": {
        "id": "Xh8jUIR3dDPa"
      }
    },
    {
      "cell_type": "code",
      "source": [
        "n = 200\n",
        "p = 1 / 78  # approximately 0.0128\n",
        "\n",
        "mean = n * p\n",
        "std_dev = (n * p * (1 - p)) ** 0.5\n",
        "\n",
        "print(f\"Mean (expected number): {mean:.4f}\")\n",
        "print(f\"Standard deviation: {std_dev:.4f}\")\n"
      ],
      "metadata": {
        "id": "zHt9LYNZdMv4"
      },
      "execution_count": null,
      "outputs": []
    },
    {
      "cell_type": "markdown",
      "source": [
        "#Step 4: Calculate probability that at most 8 people develop pancreatic cancer"
      ],
      "metadata": {
        "id": "cFcCV-XwdQnw"
      }
    },
    {
      "cell_type": "code",
      "source": [
        "prob_at_most_8 = 0\n",
        "for k in range(0, 9):\n",
        "    prob_at_most_8 += binomial_pmf(n, k, p)\n",
        "\n",
        "print(f\"Probability that at most 8 people develop pancreatic cancer: {prob_at_most_8:.5f}\")"
      ],
      "metadata": {
        "id": "JlhcnDBAdRqB"
      },
      "execution_count": null,
      "outputs": []
    },
    {
      "cell_type": "markdown",
      "source": [
        "#Step 5: Compare probability of exactly 5 vs. 6 people developing pancreatic cancer\n"
      ],
      "metadata": {
        "id": "ZSsTnPr8dX0I"
      }
    },
    {
      "cell_type": "code",
      "source": [
        "prob_5 = binomial_pmf(n, 5, p)\n",
        "prob_6 = binomial_pmf(n, 6, p)\n",
        "\n",
        "print(f\"P(X = 5): {prob_5:.5f}\")\n",
        "print(f\"P(X = 6): {prob_6:.5f}\")\n",
        "\n",
        "if prob_5 > prob_6:\n",
        "    print(\"It is more likely that 5 people will develop pancreatic cancer.\")\n",
        "else:\n",
        "    print(\"It is more likely that 6 people will develop pancreatic cancer.\")"
      ],
      "metadata": {
        "id": "y39DKzmBdfP0"
      },
      "execution_count": null,
      "outputs": []
    },
    {
      "cell_type": "markdown",
      "source": [
        "#Step 6: Visualize the distribution using Matplotlib"
      ],
      "metadata": {
        "id": "AFCAajnQdiu3"
      }
    },
    {
      "cell_type": "code",
      "source": [
        "import matplotlib.pyplot as plt\n",
        "\n",
        "# Choose k values around the mean for better visualization\n",
        "k_values = list(range(0, 16))\n",
        "probabilities = [binomial_pmf(n, k, p) for k in k_values]\n",
        "\n",
        "plt.figure(figsize=(10, 6))\n",
        "plt.bar(k_values, probabilities, color='skyblue', edgecolor='black')\n",
        "plt.xlabel('Number of People Developing Pancreatic Cancer (k)')\n",
        "plt.ylabel('Probability P(X = k)')\n",
        "plt.title(f'Binomial Distribution (n={n}, p={p:.4f}) - Pancreatic Cancer Risk')\n",
        "plt.grid(axis='y', linestyle='--', alpha=0.7)\n",
        "plt.show()\n"
      ],
      "metadata": {
        "id": "Xmqj_sWmdnJI"
      },
      "execution_count": null,
      "outputs": []
    }
  ]
}
