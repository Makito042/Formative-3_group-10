{
  "nbformat": 4,
  "nbformat_minor": 0,
  "metadata": {
    "colab": {
      "provenance": [],
      "include_colab_link": true
    },
    "kernelspec": {
      "name": "python3",
      "display_name": "Python 3"
    },
    "language_info": {
      "name": "python"
    }
  },
  "cells": [
    {
      "cell_type": "markdown",
      "metadata": {
        "id": "view-in-github",
        "colab_type": "text"
      },
      "source": [
        "<a href=\"https://colab.research.google.com/github/Makito042/Formative-3_group-10/blob/master/Untitled2.ipynb\" target=\"_parent\"><img src=\"https://colab.research.google.com/assets/colab-badge.svg\" alt=\"Open In Colab\"/></a>"
      ]
    },
    {
      "cell_type": "markdown",
      "source": [
        "# Formative 3 - Probability Distributions, Bayesian Probability, and Gradient Descent Implementation\n",
        "We as group 10 will be working on a comprehensive assignment designed to deepen our understanding in probability and machine learning.\n",
        "\n",
        "This notebook presents our implementations and analysis for the following three components:\n",
        "\n",
        "Part 1: Binomial Distribution.\n",
        "\n",
        "Part 2: Bayesian Probability Application.\n",
        "\n",
        "Part 3: Gradien Descent for Linear Regression."
      ],
      "metadata": {
        "id": "Qrb-noSWj12T"
      }
    },
    {
      "cell_type": "markdown",
      "source": [
        "**Part 1: Binomial Distribution – Pancreatic Cancer Risk Analysis**\n",
        "\n",
        "Problem Statement\n",
        "The lifetime risk of developing pancreatic cancer is about 1 in 78 (approximately 1.28%). Suppose we randomly sample 200 people. Let X be the number of people in this sample who will develop pancreatic cancer.\n",
        "\n",
        "1. Binomial Distribution for X\n",
        "Since each person either develops pancreatic cancer or does not, independently, and the probability of developing it is constant, the random variable X follows a Binomial distribution with\n",
        "\n",
        "with parameters:\n",
        "\n",
        "Number of trials:\n",
        "𝑛\n",
        "=\n",
        "200\n",
        "\n",
        "Probability of success (developing cancer):\n",
        "𝑝\n",
        "=\n",
        "1/78\n",
        "≈\n",
        "0.0128\n",
        "\n",
        "Using the formulas, calculate the (i) mean and (ii) standard deviation of X.\n",
        "\n",
        " find the probability that at most eight people develop pancreatic cancer\n",
        "Is it more likely that five or six people will develop pancreatic cancer? Justify your answer numerically.\n"
      ],
      "metadata": {
        "id": "2aqP22h9j36q"
      }
    },
    {
      "cell_type": "markdown",
      "source": [
        "# Step 1: Define factorial and combination functions"
      ],
      "metadata": {
        "id": "_2HF3X0tkIdo"
      }
    },
    {
      "cell_type": "code",
      "source": [
        "def factorial(n):\n",
        "    result = 1\n",
        "    for i in range(2, n+1):\n",
        "        result *= i\n",
        "    return result\n",
        "\n",
        "def combination(n, k):\n",
        "    return factorial(n) // (factorial(k) * factorial(n - k))"
      ],
      "metadata": {
        "id": "iq7cnwu-kLxt"
      },
      "execution_count": 1,
      "outputs": []
    },
    {
      "cell_type": "markdown",
      "source": [
        "#Step 2: Define binomial PMF function\n"
      ],
      "metadata": {
        "id": "DgC84J-tkMrO"
      }
    },
    {
      "cell_type": "code",
      "source": [
        "def binomial_pmf(n, k, p):\n",
        "    return combination(n, k) * (p ** k) * ((1 - p) ** (n - k))\n"
      ],
      "metadata": {
        "id": "u0uc8zoKkRA1"
      },
      "execution_count": 2,
      "outputs": []
    },
    {
      "cell_type": "markdown",
      "source": [
        "#Step 3: Calculate mean and standard deviation"
      ],
      "metadata": {
        "id": "APDyMzvzk1JF"
      }
    },
    {
      "cell_type": "code",
      "source": [
        "n = 200\n",
        "p = 1 / 78  # approximately 0.0128\n",
        "\n",
        "mean = n * p\n",
        "std_dev = (n * p * (1 - p)) ** 0.5\n",
        "\n",
        "print(f\"Mean (expected number): {mean:.4f}\")\n",
        "print(f\"Standard deviation: {std_dev:.4f}\")\n"
      ],
      "metadata": {
        "id": "_Mmwkxn1k5Gn",
        "outputId": "b31e6279-2c7d-474d-f2eb-5e8ac3343e93",
        "colab": {
          "base_uri": "https://localhost:8080/"
        }
      },
      "execution_count": 3,
      "outputs": [
        {
          "output_type": "stream",
          "name": "stdout",
          "text": [
            "Mean (expected number): 2.5641\n",
            "Standard deviation: 1.5910\n"
          ]
        }
      ]
    },
    {
      "cell_type": "markdown",
      "source": [
        "# Step 4: Calculate probability that at most 8 people develop pancreatic cancer"
      ],
      "metadata": {
        "id": "0UlNCvD7lF5a"
      }
    },
    {
      "cell_type": "code",
      "source": [
        "prob_at_most_8 = 0\n",
        "for k in range(0, 9):\n",
        "    prob_at_most_8 += binomial_pmf(n, k, p)\n",
        "\n",
        "print(f\"Probability that at most 8 people develop pancreatic cancer: {prob_at_most_8:.5f}\")"
      ],
      "metadata": {
        "id": "4BKnbupNlKaM",
        "outputId": "6fae2a53-2c01-44b2-efe6-d47f2cbb333f",
        "colab": {
          "base_uri": "https://localhost:8080/"
        }
      },
      "execution_count": 4,
      "outputs": [
        {
          "output_type": "stream",
          "name": "stdout",
          "text": [
            "Probability that at most 8 people develop pancreatic cancer: 0.99877\n"
          ]
        }
      ]
    }
  ]
}